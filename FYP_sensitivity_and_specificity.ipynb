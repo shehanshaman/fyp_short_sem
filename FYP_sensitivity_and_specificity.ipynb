{
  "nbformat": 4,
  "nbformat_minor": 0,
  "metadata": {
    "colab": {
      "name": "FYP sensitivity and specificity.ipynb",
      "provenance": [],
      "authorship_tag": "ABX9TyOhXqIrwPgOw85/h+jTHFdL",
      "include_colab_link": true
    },
    "kernelspec": {
      "name": "python3",
      "display_name": "Python 3"
    }
  },
  "cells": [
    {
      "cell_type": "markdown",
      "metadata": {
        "id": "view-in-github",
        "colab_type": "text"
      },
      "source": [
        "<a href=\"https://colab.research.google.com/github/shehanshaman/fyp_short_sem/blob/develop/FYP_sensitivity_and_specificity.ipynb\" target=\"_parent\"><img src=\"https://colab.research.google.com/assets/colab-badge.svg\" alt=\"Open In Colab\"/></a>"
      ]
    },
    {
      "cell_type": "code",
      "metadata": {
        "id": "NWmXQ2Cv8ADv",
        "colab_type": "code",
        "colab": {
          "base_uri": "https://localhost:8080/",
          "height": 121
        },
        "outputId": "cbb6f63a-87d2-4945-dc02-ae511d74e941"
      },
      "source": [
        "from google.colab import drive\n",
        "drive.mount('/content/drive')"
      ],
      "execution_count": null,
      "outputs": [
        {
          "output_type": "stream",
          "text": [
            "Go to this URL in a browser: https://accounts.google.com/o/oauth2/auth?client_id=947318989803-6bn6qk8qdgf4n4g3pfee6491hc0brc4i.apps.googleusercontent.com&redirect_uri=urn%3aietf%3awg%3aoauth%3a2.0%3aoob&response_type=code&scope=email%20https%3a%2f%2fwww.googleapis.com%2fauth%2fdocs.test%20https%3a%2f%2fwww.googleapis.com%2fauth%2fdrive%20https%3a%2f%2fwww.googleapis.com%2fauth%2fdrive.photos.readonly%20https%3a%2f%2fwww.googleapis.com%2fauth%2fpeopleapi.readonly\n",
            "\n",
            "Enter your authorization code:\n",
            "··········\n",
            "Mounted at /content/drive\n"
          ],
          "name": "stdout"
        }
      ]
    },
    {
      "cell_type": "code",
      "metadata": {
        "id": "RIWUHtc58RXS",
        "colab_type": "code",
        "colab": {}
      },
      "source": [
        "import numpy as np\n",
        "import pandas as pd\n",
        "\n",
        "from sklearn.feature_selection import SelectKBest\n",
        "from sklearn.feature_selection import chi2\n",
        "\n",
        "import matplotlib.pyplot as plt\n",
        "\n",
        "from sklearn.decomposition import PCA\n",
        "from sklearn.ensemble import RandomForestClassifier\n",
        "from sklearn.ensemble import ExtraTreesClassifier\n",
        "\n",
        "from sklearn.model_selection import train_test_split \n",
        "\n",
        "from sklearn.tree import DecisionTreeClassifier\n",
        "from sklearn.naive_bayes import GaussianNB \n",
        "from sklearn.neighbors import KNeighborsClassifier\n",
        "from sklearn import svm\n",
        "from sklearn.svm import SVC\n",
        "\n",
        "from sklearn import metrics\n",
        "\n",
        "from nltk.classify.scikitlearn import SklearnClassifier \n",
        "from sklearn.model_selection import cross_val_score, cross_val_predict"
      ],
      "execution_count": null,
      "outputs": []
    },
    {
      "cell_type": "code",
      "metadata": {
        "id": "uhWnqAx48Sbd",
        "colab_type": "code",
        "colab": {
          "base_uri": "https://localhost:8080/",
          "height": 261
        },
        "outputId": "58e9d999-e039-4bf7-c38c-dbc7893c1876"
      },
      "source": [
        "df = pd.read_pickle(\"drive/My Drive/FYP/dataset/GSE5281/GSE5281_DE_200.plk\")\n",
        "df.head()"
      ],
      "execution_count": null,
      "outputs": [
        {
          "output_type": "execute_result",
          "data": {
            "text/html": [
              "<div>\n",
              "<style scoped>\n",
              "    .dataframe tbody tr th:only-of-type {\n",
              "        vertical-align: middle;\n",
              "    }\n",
              "\n",
              "    .dataframe tbody tr th {\n",
              "        vertical-align: top;\n",
              "    }\n",
              "\n",
              "    .dataframe thead th {\n",
              "        text-align: right;\n",
              "    }\n",
              "</style>\n",
              "<table border=\"1\" class=\"dataframe\">\n",
              "  <thead>\n",
              "    <tr style=\"text-align: right;\">\n",
              "      <th>Symbol</th>\n",
              "      <th>SST</th>\n",
              "      <th>CHGB</th>\n",
              "      <th>CALY</th>\n",
              "      <th>CHRM1</th>\n",
              "      <th>GOT1</th>\n",
              "      <th>STAT4</th>\n",
              "      <th>NME1</th>\n",
              "      <th>AC004951.6</th>\n",
              "      <th>AX747182</th>\n",
              "      <th>SERTM1</th>\n",
              "      <th>PCSK1</th>\n",
              "      <th>ATP6V1G2</th>\n",
              "      <th>MT1M</th>\n",
              "      <th>GPI</th>\n",
              "      <th>LOC101929787</th>\n",
              "      <th>LOC100272216</th>\n",
              "      <th>MAFF</th>\n",
              "      <th>KIFAP3</th>\n",
              "      <th>MAL2</th>\n",
              "      <th>AMPH</th>\n",
              "      <th>SLC39A12</th>\n",
              "      <th>MTX2</th>\n",
              "      <th>MIR612</th>\n",
              "      <th>NEAT1</th>\n",
              "      <th>ZIC2</th>\n",
              "      <th>PCYOX1L</th>\n",
              "      <th>TAC1</th>\n",
              "      <th>ZNF204P</th>\n",
              "      <th>JPX</th>\n",
              "      <th>MDH1</th>\n",
              "      <th>CCK</th>\n",
              "      <th>PSMB3</th>\n",
              "      <th>NIT2</th>\n",
              "      <th>ATP5B</th>\n",
              "      <th>TMEM200A</th>\n",
              "      <th>ATP6V1B2</th>\n",
              "      <th>DHCR24</th>\n",
              "      <th>SLIRP</th>\n",
              "      <th>VSNL1</th>\n",
              "      <th>MGC12488</th>\n",
              "      <th>...</th>\n",
              "      <th>TM9SF2</th>\n",
              "      <th>CCNH</th>\n",
              "      <th>SLC12A7</th>\n",
              "      <th>APLNR</th>\n",
              "      <th>MAP2K1</th>\n",
              "      <th>SLC35B1</th>\n",
              "      <th>CACNA2D3</th>\n",
              "      <th>PCDH8</th>\n",
              "      <th>GLRB</th>\n",
              "      <th>NEFL</th>\n",
              "      <th>YAP1</th>\n",
              "      <th>NRSN1</th>\n",
              "      <th>SLC9A6</th>\n",
              "      <th>CAPNS1</th>\n",
              "      <th>ALAS1</th>\n",
              "      <th>FIG4</th>\n",
              "      <th>PSENEN</th>\n",
              "      <th>GFAP</th>\n",
              "      <th>IMMT</th>\n",
              "      <th>SUCLA2</th>\n",
              "      <th>FHL2</th>\n",
              "      <th>AK090844</th>\n",
              "      <th>RAB33A</th>\n",
              "      <th>ZCCHC24</th>\n",
              "      <th>PPEF1</th>\n",
              "      <th>MLLT11</th>\n",
              "      <th>RGS4</th>\n",
              "      <th>SLC16A14</th>\n",
              "      <th>SNCA</th>\n",
              "      <th>PRR34-AS1</th>\n",
              "      <th>RGS7</th>\n",
              "      <th>NRXN3</th>\n",
              "      <th>NAA20</th>\n",
              "      <th>UCHL3</th>\n",
              "      <th>HACL1</th>\n",
              "      <th>ATP6V0B</th>\n",
              "      <th>ATP1A1</th>\n",
              "      <th>SLITRK4</th>\n",
              "      <th>MAP7D2</th>\n",
              "      <th>class</th>\n",
              "    </tr>\n",
              "  </thead>\n",
              "  <tbody>\n",
              "    <tr>\n",
              "      <th>GSM119615</th>\n",
              "      <td>8.131880</td>\n",
              "      <td>8.038977</td>\n",
              "      <td>5.151241</td>\n",
              "      <td>5.960189</td>\n",
              "      <td>6.496582</td>\n",
              "      <td>5.177266</td>\n",
              "      <td>6.735126</td>\n",
              "      <td>4.923159</td>\n",
              "      <td>4.923159</td>\n",
              "      <td>5.585295</td>\n",
              "      <td>5.573235</td>\n",
              "      <td>8.434417</td>\n",
              "      <td>3.951437</td>\n",
              "      <td>6.968975</td>\n",
              "      <td>5.885994</td>\n",
              "      <td>6.083629</td>\n",
              "      <td>4.681431</td>\n",
              "      <td>6.380428</td>\n",
              "      <td>8.110305</td>\n",
              "      <td>8.915695</td>\n",
              "      <td>6.329852</td>\n",
              "      <td>7.560527</td>\n",
              "      <td>5.166372</td>\n",
              "      <td>5.166372</td>\n",
              "      <td>5.868591</td>\n",
              "      <td>6.328347</td>\n",
              "      <td>8.347192</td>\n",
              "      <td>7.275703</td>\n",
              "      <td>2.934900</td>\n",
              "      <td>10.763783</td>\n",
              "      <td>9.171231</td>\n",
              "      <td>6.893028</td>\n",
              "      <td>6.257113</td>\n",
              "      <td>8.455516</td>\n",
              "      <td>7.526488</td>\n",
              "      <td>8.284930</td>\n",
              "      <td>6.960068</td>\n",
              "      <td>7.639021</td>\n",
              "      <td>10.283798</td>\n",
              "      <td>4.911598</td>\n",
              "      <td>...</td>\n",
              "      <td>6.481914</td>\n",
              "      <td>7.011247</td>\n",
              "      <td>6.635072</td>\n",
              "      <td>4.528372</td>\n",
              "      <td>8.128725</td>\n",
              "      <td>5.278402</td>\n",
              "      <td>7.828262</td>\n",
              "      <td>9.860453</td>\n",
              "      <td>6.917989</td>\n",
              "      <td>9.267750</td>\n",
              "      <td>4.186140</td>\n",
              "      <td>8.675869</td>\n",
              "      <td>9.841581</td>\n",
              "      <td>6.251841</td>\n",
              "      <td>5.816591</td>\n",
              "      <td>7.935832</td>\n",
              "      <td>4.435020</td>\n",
              "      <td>7.054613</td>\n",
              "      <td>7.414872</td>\n",
              "      <td>7.961066</td>\n",
              "      <td>5.799641</td>\n",
              "      <td>5.298147</td>\n",
              "      <td>5.783877</td>\n",
              "      <td>7.456909</td>\n",
              "      <td>3.927690</td>\n",
              "      <td>10.847098</td>\n",
              "      <td>7.307455</td>\n",
              "      <td>8.620085</td>\n",
              "      <td>7.958731</td>\n",
              "      <td>6.325037</td>\n",
              "      <td>6.384926</td>\n",
              "      <td>7.623302</td>\n",
              "      <td>7.276087</td>\n",
              "      <td>5.246386</td>\n",
              "      <td>4.698036</td>\n",
              "      <td>6.566670</td>\n",
              "      <td>8.079477</td>\n",
              "      <td>7.012174</td>\n",
              "      <td>8.392132</td>\n",
              "      <td>0</td>\n",
              "    </tr>\n",
              "    <tr>\n",
              "      <th>GSM119616</th>\n",
              "      <td>9.505370</td>\n",
              "      <td>6.843639</td>\n",
              "      <td>5.565685</td>\n",
              "      <td>8.256848</td>\n",
              "      <td>6.808876</td>\n",
              "      <td>5.937782</td>\n",
              "      <td>7.084662</td>\n",
              "      <td>4.308553</td>\n",
              "      <td>4.308553</td>\n",
              "      <td>5.424460</td>\n",
              "      <td>4.320161</td>\n",
              "      <td>8.430603</td>\n",
              "      <td>4.281796</td>\n",
              "      <td>8.000928</td>\n",
              "      <td>5.867583</td>\n",
              "      <td>5.881952</td>\n",
              "      <td>4.849331</td>\n",
              "      <td>4.707004</td>\n",
              "      <td>6.259058</td>\n",
              "      <td>8.320264</td>\n",
              "      <td>3.686194</td>\n",
              "      <td>6.720044</td>\n",
              "      <td>4.380328</td>\n",
              "      <td>4.380328</td>\n",
              "      <td>4.223862</td>\n",
              "      <td>7.514385</td>\n",
              "      <td>5.181012</td>\n",
              "      <td>6.709932</td>\n",
              "      <td>2.920651</td>\n",
              "      <td>9.269761</td>\n",
              "      <td>7.808680</td>\n",
              "      <td>8.121838</td>\n",
              "      <td>6.331245</td>\n",
              "      <td>8.937122</td>\n",
              "      <td>8.268992</td>\n",
              "      <td>7.795785</td>\n",
              "      <td>7.118234</td>\n",
              "      <td>8.470085</td>\n",
              "      <td>9.097778</td>\n",
              "      <td>4.862214</td>\n",
              "      <td>...</td>\n",
              "      <td>5.992824</td>\n",
              "      <td>6.292830</td>\n",
              "      <td>6.375591</td>\n",
              "      <td>5.458683</td>\n",
              "      <td>7.259421</td>\n",
              "      <td>6.062100</td>\n",
              "      <td>7.621714</td>\n",
              "      <td>8.018103</td>\n",
              "      <td>6.181431</td>\n",
              "      <td>8.943403</td>\n",
              "      <td>3.566653</td>\n",
              "      <td>7.639978</td>\n",
              "      <td>9.082520</td>\n",
              "      <td>7.135552</td>\n",
              "      <td>6.144733</td>\n",
              "      <td>9.000454</td>\n",
              "      <td>4.363489</td>\n",
              "      <td>7.491630</td>\n",
              "      <td>6.946851</td>\n",
              "      <td>7.412511</td>\n",
              "      <td>6.767040</td>\n",
              "      <td>5.279988</td>\n",
              "      <td>6.146401</td>\n",
              "      <td>7.418142</td>\n",
              "      <td>5.079694</td>\n",
              "      <td>11.668155</td>\n",
              "      <td>7.324564</td>\n",
              "      <td>7.498362</td>\n",
              "      <td>7.426317</td>\n",
              "      <td>6.648298</td>\n",
              "      <td>6.447447</td>\n",
              "      <td>6.868568</td>\n",
              "      <td>6.718846</td>\n",
              "      <td>4.696639</td>\n",
              "      <td>5.302263</td>\n",
              "      <td>6.957373</td>\n",
              "      <td>8.561748</td>\n",
              "      <td>6.600915</td>\n",
              "      <td>8.290398</td>\n",
              "      <td>0</td>\n",
              "    </tr>\n",
              "    <tr>\n",
              "      <th>GSM119617</th>\n",
              "      <td>5.369160</td>\n",
              "      <td>4.665645</td>\n",
              "      <td>4.252331</td>\n",
              "      <td>6.834361</td>\n",
              "      <td>4.808397</td>\n",
              "      <td>4.486761</td>\n",
              "      <td>5.409682</td>\n",
              "      <td>5.665046</td>\n",
              "      <td>5.665046</td>\n",
              "      <td>3.364531</td>\n",
              "      <td>3.173762</td>\n",
              "      <td>5.653338</td>\n",
              "      <td>5.513703</td>\n",
              "      <td>6.178967</td>\n",
              "      <td>4.493120</td>\n",
              "      <td>6.389841</td>\n",
              "      <td>4.266874</td>\n",
              "      <td>3.454873</td>\n",
              "      <td>3.314502</td>\n",
              "      <td>5.044705</td>\n",
              "      <td>3.599311</td>\n",
              "      <td>4.476322</td>\n",
              "      <td>4.598128</td>\n",
              "      <td>4.598128</td>\n",
              "      <td>4.741784</td>\n",
              "      <td>5.884224</td>\n",
              "      <td>2.750926</td>\n",
              "      <td>4.544694</td>\n",
              "      <td>2.957573</td>\n",
              "      <td>6.592042</td>\n",
              "      <td>5.094963</td>\n",
              "      <td>5.935664</td>\n",
              "      <td>3.925424</td>\n",
              "      <td>7.702212</td>\n",
              "      <td>4.875246</td>\n",
              "      <td>5.456936</td>\n",
              "      <td>4.877980</td>\n",
              "      <td>6.446468</td>\n",
              "      <td>6.502673</td>\n",
              "      <td>5.294911</td>\n",
              "      <td>...</td>\n",
              "      <td>4.393931</td>\n",
              "      <td>4.383398</td>\n",
              "      <td>6.730196</td>\n",
              "      <td>5.016607</td>\n",
              "      <td>5.234606</td>\n",
              "      <td>4.735439</td>\n",
              "      <td>4.595901</td>\n",
              "      <td>4.923356</td>\n",
              "      <td>4.103622</td>\n",
              "      <td>5.937121</td>\n",
              "      <td>3.534403</td>\n",
              "      <td>6.366537</td>\n",
              "      <td>6.387074</td>\n",
              "      <td>6.485473</td>\n",
              "      <td>4.318861</td>\n",
              "      <td>8.097815</td>\n",
              "      <td>3.472717</td>\n",
              "      <td>7.186470</td>\n",
              "      <td>5.193497</td>\n",
              "      <td>4.871446</td>\n",
              "      <td>5.890325</td>\n",
              "      <td>6.716955</td>\n",
              "      <td>4.677529</td>\n",
              "      <td>7.630651</td>\n",
              "      <td>3.765344</td>\n",
              "      <td>9.503726</td>\n",
              "      <td>5.363508</td>\n",
              "      <td>4.069276</td>\n",
              "      <td>5.191100</td>\n",
              "      <td>6.747926</td>\n",
              "      <td>5.840032</td>\n",
              "      <td>5.171308</td>\n",
              "      <td>4.926782</td>\n",
              "      <td>3.523475</td>\n",
              "      <td>3.793645</td>\n",
              "      <td>5.613994</td>\n",
              "      <td>6.183599</td>\n",
              "      <td>3.677790</td>\n",
              "      <td>6.366832</td>\n",
              "      <td>0</td>\n",
              "    </tr>\n",
              "    <tr>\n",
              "      <th>GSM119618</th>\n",
              "      <td>5.999060</td>\n",
              "      <td>5.293017</td>\n",
              "      <td>5.245800</td>\n",
              "      <td>7.863578</td>\n",
              "      <td>4.886358</td>\n",
              "      <td>4.517919</td>\n",
              "      <td>4.878878</td>\n",
              "      <td>5.699413</td>\n",
              "      <td>5.699413</td>\n",
              "      <td>3.256316</td>\n",
              "      <td>3.239969</td>\n",
              "      <td>6.032224</td>\n",
              "      <td>5.696868</td>\n",
              "      <td>6.902142</td>\n",
              "      <td>4.852395</td>\n",
              "      <td>6.174321</td>\n",
              "      <td>4.890228</td>\n",
              "      <td>3.162665</td>\n",
              "      <td>3.420588</td>\n",
              "      <td>6.075690</td>\n",
              "      <td>3.675883</td>\n",
              "      <td>5.037034</td>\n",
              "      <td>4.777270</td>\n",
              "      <td>4.777270</td>\n",
              "      <td>4.456430</td>\n",
              "      <td>6.072395</td>\n",
              "      <td>3.954933</td>\n",
              "      <td>4.304102</td>\n",
              "      <td>3.929218</td>\n",
              "      <td>6.965705</td>\n",
              "      <td>5.701809</td>\n",
              "      <td>6.574085</td>\n",
              "      <td>4.373662</td>\n",
              "      <td>7.954236</td>\n",
              "      <td>4.715554</td>\n",
              "      <td>5.423112</td>\n",
              "      <td>5.092454</td>\n",
              "      <td>6.445284</td>\n",
              "      <td>7.277838</td>\n",
              "      <td>5.940631</td>\n",
              "      <td>...</td>\n",
              "      <td>4.946065</td>\n",
              "      <td>4.509396</td>\n",
              "      <td>6.818696</td>\n",
              "      <td>5.455425</td>\n",
              "      <td>4.170590</td>\n",
              "      <td>4.704986</td>\n",
              "      <td>4.562267</td>\n",
              "      <td>5.021351</td>\n",
              "      <td>4.262546</td>\n",
              "      <td>6.659974</td>\n",
              "      <td>3.333360</td>\n",
              "      <td>6.384433</td>\n",
              "      <td>7.335424</td>\n",
              "      <td>6.555934</td>\n",
              "      <td>4.342724</td>\n",
              "      <td>8.521468</td>\n",
              "      <td>3.992268</td>\n",
              "      <td>7.553568</td>\n",
              "      <td>5.467763</td>\n",
              "      <td>4.919411</td>\n",
              "      <td>5.698300</td>\n",
              "      <td>6.608849</td>\n",
              "      <td>5.180804</td>\n",
              "      <td>7.807734</td>\n",
              "      <td>3.603359</td>\n",
              "      <td>10.139533</td>\n",
              "      <td>5.626352</td>\n",
              "      <td>4.978548</td>\n",
              "      <td>6.106691</td>\n",
              "      <td>7.378966</td>\n",
              "      <td>5.936174</td>\n",
              "      <td>5.411828</td>\n",
              "      <td>5.461794</td>\n",
              "      <td>3.848761</td>\n",
              "      <td>4.159845</td>\n",
              "      <td>6.010982</td>\n",
              "      <td>6.505356</td>\n",
              "      <td>4.053398</td>\n",
              "      <td>7.139060</td>\n",
              "      <td>0</td>\n",
              "    </tr>\n",
              "    <tr>\n",
              "      <th>GSM119619</th>\n",
              "      <td>9.820469</td>\n",
              "      <td>9.230820</td>\n",
              "      <td>6.719501</td>\n",
              "      <td>7.177746</td>\n",
              "      <td>7.966393</td>\n",
              "      <td>6.153760</td>\n",
              "      <td>8.338353</td>\n",
              "      <td>3.590518</td>\n",
              "      <td>3.590518</td>\n",
              "      <td>6.930045</td>\n",
              "      <td>6.690597</td>\n",
              "      <td>8.947760</td>\n",
              "      <td>4.743912</td>\n",
              "      <td>8.350846</td>\n",
              "      <td>5.228459</td>\n",
              "      <td>6.785353</td>\n",
              "      <td>5.220601</td>\n",
              "      <td>7.127253</td>\n",
              "      <td>9.211837</td>\n",
              "      <td>9.256675</td>\n",
              "      <td>5.360266</td>\n",
              "      <td>7.971362</td>\n",
              "      <td>4.845992</td>\n",
              "      <td>4.845992</td>\n",
              "      <td>4.778356</td>\n",
              "      <td>6.846255</td>\n",
              "      <td>9.312080</td>\n",
              "      <td>7.200142</td>\n",
              "      <td>3.003917</td>\n",
              "      <td>11.759778</td>\n",
              "      <td>9.423194</td>\n",
              "      <td>7.365393</td>\n",
              "      <td>7.489957</td>\n",
              "      <td>9.778586</td>\n",
              "      <td>8.368750</td>\n",
              "      <td>10.092938</td>\n",
              "      <td>8.010270</td>\n",
              "      <td>8.065691</td>\n",
              "      <td>10.858154</td>\n",
              "      <td>4.673697</td>\n",
              "      <td>...</td>\n",
              "      <td>8.024168</td>\n",
              "      <td>7.967964</td>\n",
              "      <td>5.854620</td>\n",
              "      <td>4.936726</td>\n",
              "      <td>8.956529</td>\n",
              "      <td>6.474409</td>\n",
              "      <td>8.466506</td>\n",
              "      <td>9.983657</td>\n",
              "      <td>7.696830</td>\n",
              "      <td>10.167188</td>\n",
              "      <td>4.075549</td>\n",
              "      <td>8.777251</td>\n",
              "      <td>9.862478</td>\n",
              "      <td>7.814851</td>\n",
              "      <td>7.751669</td>\n",
              "      <td>8.701667</td>\n",
              "      <td>5.069903</td>\n",
              "      <td>6.793184</td>\n",
              "      <td>7.869865</td>\n",
              "      <td>8.728413</td>\n",
              "      <td>6.947103</td>\n",
              "      <td>5.085018</td>\n",
              "      <td>7.842291</td>\n",
              "      <td>6.909034</td>\n",
              "      <td>5.465145</td>\n",
              "      <td>11.596214</td>\n",
              "      <td>8.258840</td>\n",
              "      <td>9.072204</td>\n",
              "      <td>8.954750</td>\n",
              "      <td>6.282552</td>\n",
              "      <td>7.301119</td>\n",
              "      <td>8.285918</td>\n",
              "      <td>8.664166</td>\n",
              "      <td>6.133759</td>\n",
              "      <td>5.540673</td>\n",
              "      <td>8.205254</td>\n",
              "      <td>9.832953</td>\n",
              "      <td>7.663027</td>\n",
              "      <td>9.157813</td>\n",
              "      <td>0</td>\n",
              "    </tr>\n",
              "  </tbody>\n",
              "</table>\n",
              "<p>5 rows × 201 columns</p>\n",
              "</div>"
            ],
            "text/plain": [
              "Symbol          SST      CHGB      CALY  ...   SLITRK4    MAP7D2  class\n",
              "GSM119615  8.131880  8.038977  5.151241  ...  7.012174  8.392132      0\n",
              "GSM119616  9.505370  6.843639  5.565685  ...  6.600915  8.290398      0\n",
              "GSM119617  5.369160  4.665645  4.252331  ...  3.677790  6.366832      0\n",
              "GSM119618  5.999060  5.293017  5.245800  ...  4.053398  7.139060      0\n",
              "GSM119619  9.820469  9.230820  6.719501  ...  7.663027  9.157813      0\n",
              "\n",
              "[5 rows x 201 columns]"
            ]
          },
          "metadata": {
            "tags": []
          },
          "execution_count": 3
        }
      ]
    },
    {
      "cell_type": "code",
      "metadata": {
        "id": "uzgs_KnQ8i3Q",
        "colab_type": "code",
        "colab": {}
      },
      "source": [
        "y = df[\"class\"] \n",
        "X = df.drop(\"class\",1)"
      ],
      "execution_count": null,
      "outputs": []
    },
    {
      "cell_type": "code",
      "metadata": {
        "id": "cHoG6cF88nSU",
        "colab_type": "code",
        "colab": {}
      },
      "source": [
        "pca_col = ['STAT4', 'AMPH', 'ZIC2', 'TAC1', 'TMEM200A', 'SLIRP', 'SLC39A10', 'SPHKAP', 'CALB1', 'CDK7', 'AP2M1', 'PLK2', 'P2RY14', 'EMX2', 'SERPINF1', 'ARPC1A', 'PVALB', 'LOC101060510', 'VAMP7', 'LSM7', 'ATP1A3', 'PCP4', 'EXOC8', 'RIT2', 'BCAS1', 'PSMB4', 'LAMP5', 'PCDH8', 'NRSN1', 'CAPNS1', 'ALAS1', 'RAB33A', 'SLC16A14', 'HACL1']\n",
        "rf_col = ['SLC12A7', 'CKMT1B', 'ATP6V1E1', 'ATP5B', 'LOC100272216', 'REEP1', 'CHRM1', 'COPG2IT1', 'TUBB3', 'PSMB3', 'MIF', 'CDK5', 'IMMT', 'PSMA5', 'PLSCR4', 'LRP4', 'BSCL2', 'ATP5C1']\n",
        "fi_col = ['TARBP1', 'C2orf80', 'CCNH', 'RNF175', 'EPDR1', 'FAM107B', 'FPGT-TNNI3K', 'DHCR24', 'GLRB', 'TUBA4A', 'HMP19', 'SERPINI1', 'NRXN3', 'SUCLA2', 'SDR16C5', 'C12orf10', 'GRAMD3', 'RPH3A']\n",
        "all_found = ['AC004951.6','MAFF', 'SLC39A12', 'PCYOX1L', 'CTD-3092A11.2' ,'RP11-271C24.3', 'PRO1804' ,'PRR34-AS1']"
      ],
      "execution_count": null,
      "outputs": []
    },
    {
      "cell_type": "code",
      "metadata": {
        "id": "E7TTK4qu8uvL",
        "colab_type": "code",
        "colab": {}
      },
      "source": [
        "final_pca_col = ['SST', 'CHGB', 'MT1M', 'SLC39A12', 'JPX', 'CTD-3092A11.2', 'RP11-271C24.3', 'APLNR', 'PPEF1']"
      ],
      "execution_count": null,
      "outputs": []
    },
    {
      "cell_type": "code",
      "metadata": {
        "id": "6gykz5sT9o8P",
        "colab_type": "code",
        "colab": {}
      },
      "source": [
        "dis_gene = list(all_found + final_pca_col)\n",
        "dis_gene_unique = list(dict.fromkeys(all_found + final_pca_col))"
      ],
      "execution_count": null,
      "outputs": []
    },
    {
      "cell_type": "markdown",
      "metadata": {
        "id": "Kl-5Krbr-G2G",
        "colab_type": "text"
      },
      "source": [
        "Accuracies"
      ]
    },
    {
      "cell_type": "code",
      "metadata": {
        "id": "seyTWNwU_qyl",
        "colab_type": "code",
        "colab": {}
      },
      "source": [
        "from sklearn.metrics import confusion_matrix"
      ],
      "execution_count": null,
      "outputs": []
    },
    {
      "cell_type": "code",
      "metadata": {
        "id": "AN_dkROk-TrI",
        "colab_type": "code",
        "colab": {}
      },
      "source": [
        "def printTop3ClassificationResults(X_train, X_test, y_train, y_test): \n",
        "  \n",
        "  m = getTop3ClassificationResults(X_train, X_test, y_train, y_test)\n",
        "\n",
        "  print(\"\\t\\t\\t\\t\\t\\t Testing\\t Training\")\n",
        "  print(\"SVM + Gaussian kernel model accuracy(in %) \\t:\" , m[0][0] ,\"\\t\", m[0][1])\n",
        "  print(\"SVM + linear kerne model accuracy(in %) \\t:\" , m[1][0] ,\"\\t\", m[1][1])\n",
        "  print(\"Random forest model accuracy(in %) \\t\\t:\" , m[2][0] ,\"\\t\", m[2][1])\n",
        "\n",
        "\n",
        "def getTop3ClassificationResults(X_train, X_test, y_train, y_test):\n",
        "  svm_li_clf = svm.SVC(kernel='linear') # Linear Kernel\n",
        "  score_svm_li = cross_val_score(svm_li_clf, X_train, y_train, cv=3)\n",
        "  svm_li_clf.fit(X_train, y_train)\n",
        "\n",
        "  svm_rbf_clf = SVC(kernel=\"rbf\", gamma=\"auto\", C=1)\n",
        "  score_svm_rbf = cross_val_score(svm_rbf_clf, X_train, y_train, cv=3)\n",
        "  svm_rbf_clf.fit(X_train, y_train)\n",
        "  \n",
        "  RF_clf = RandomForestClassifier(n_estimators=100, max_depth=2,random_state=42)\n",
        "  score_RF = cross_val_score(RF_clf, X_train, y_train, cv=3)\n",
        "  RF_clf.fit(X_train, y_train)\n",
        "\n",
        "  y_pred_svm_li = svm_li_clf.predict(X_test)\n",
        "  y_pred_svm_rbf = svm_rbf_clf.predict(X_test)\n",
        "  y_pred_RF = RF_clf.predict(X_test)\n",
        "\n",
        "  m = np.array([[round(metrics.accuracy_score(np.int64(y_test.values), y_pred_svm_rbf)*100,2) , round(score_svm_rbf.mean()*100,2)], \n",
        "                [round(metrics.accuracy_score(np.int64(y_test.values), y_pred_svm_li)*100,2) , round(score_svm_li.mean()*100,2)],\n",
        "                [round(metrics.accuracy_score(np.int64(y_test.values), y_pred_RF)*100,2) , round(score_svm_li.mean()*100,2)]])\n",
        "  \n",
        "  return m"
      ],
      "execution_count": null,
      "outputs": []
    },
    {
      "cell_type": "code",
      "metadata": {
        "id": "wnOyiVZN_-_K",
        "colab_type": "code",
        "colab": {}
      },
      "source": [
        "def print_sensitivity_specificity(y, y_pred):\n",
        "  cm = confusion_matrix(y, y_pred)\n",
        "  print(cm)\n",
        "  print(\"Sensitivity: \\t\", round(cm[0][0]/(cm[0][0] + cm[1][0]),3))\n",
        "  print(\"Specificity: \\t\", round(cm[1][1]/(cm[1][1] + cm[0][1]),3))"
      ],
      "execution_count": null,
      "outputs": []
    },
    {
      "cell_type": "code",
      "metadata": {
        "id": "umXUrbLlD9Nj",
        "colab_type": "code",
        "colab": {}
      },
      "source": [
        "def print_all_model_confusion_matrix(diff_df, y):\n",
        "  svm_li_clf = svm.SVC(kernel='linear') # Linear Kernel\n",
        "  svm_li_clf.fit(diff_df, y)\n",
        "  y_pred_svm_li = svm_li_clf.predict(diff_df)\n",
        "  print(\"Linear Kernel\")\n",
        "  print_sensitivity_specificity(y, y_pred_svm_li)\n",
        "\n",
        "  svm_rbf_clf = SVC(kernel=\"rbf\", gamma=\"auto\", C=1)\n",
        "  svm_rbf_clf.fit(diff_df, y)\n",
        "  y_pred_svm_rbf = svm_rbf_clf.predict(diff_df)\n",
        "  print(\"\\nGaussian kernel\")\n",
        "  print_sensitivity_specificity(y, y_pred_svm_rbf)\n",
        "\n",
        "  RF_clf = RandomForestClassifier(n_estimators=100, max_depth=2,random_state=42)\n",
        "  RF_clf.fit(diff_df, y)\n",
        "  y_pred_RF = RF_clf.predict(diff_df)\n",
        "  print(\"\\nRandom forest\")\n",
        "  print_sensitivity_specificity(y, y_pred_RF)"
      ],
      "execution_count": null,
      "outputs": []
    },
    {
      "cell_type": "code",
      "metadata": {
        "id": "k1k86DkyIgrV",
        "colab_type": "code",
        "colab": {}
      },
      "source": [
        "from sklearn.multiclass import OneVsRestClassifier\n",
        "from sklearn.metrics import roc_curve, auc\n",
        "from sklearn.metrics import roc_auc_score\n",
        "\n",
        "def getROC(X_train, X_test, y_train, y_test):\n",
        "\n",
        "  classifier_SVM_li = OneVsRestClassifier(svm.SVC(kernel='linear', probability=True,\n",
        "                                  random_state=42))\n",
        "  classifier_SVM_gu = OneVsRestClassifier(svm.SVC(kernel='rbf', probability=True,\n",
        "                                  random_state=42))\n",
        "  classifier_RF = RandomForestClassifier(n_estimators=100, max_depth=2,random_state=42)\n",
        "\n",
        "  y_score_SVM_li = classifier_SVM_li.fit(X_train, y_train).decision_function(X_test)\n",
        "  y_score_SVM_gu = classifier_SVM_gu.fit(X_train, y_train).decision_function(X_test)\n",
        "  y_score_SVM_RF = classifier_RF.fit(X_train, y_train)\n",
        "\n",
        "  fpr_li, tpr_li, _ = roc_curve(np.int64(y_test.ravel()), y_score_SVM_li.ravel())\n",
        "  fpr_gu, tpr_gu, _ = roc_curve(np.int64(y_test.ravel()), y_score_SVM_gu.ravel())\n",
        "\n",
        "  roc_auc_li = auc(fpr_li, tpr_li)\n",
        "  roc_auc_gu = auc(fpr_gu, tpr_gu)\n",
        "\n",
        "  y_pred_proba_RF = classifier_RF.predict_proba(X_test)[::,1]\n",
        "  fpr_RF, tpr_RF, _ = metrics.roc_curve(np.int64(y_test.values),  y_pred_proba_RF)\n",
        "  roc_auc_RF = metrics.roc_auc_score(np.int64(y_test.values), y_pred_proba_RF)\n",
        "\n",
        "  plt.plot(fpr_li,tpr_li,label=\"SVM linear, auc=\"+str(round(roc_auc_li,2)))\n",
        "  plt.plot(fpr_gu,tpr_gu,label=\"SVM gaussian, auc=\"+str(round(roc_auc_gu,2)))\n",
        "  plt.plot(fpr_RF,tpr_RF,label=\"Random forest, auc=\"+str(round(roc_auc_RF,2)))\n",
        "\n",
        "  plt.ylabel(\"Sensitivity\")\n",
        "  plt.xlabel(\"1 - Specificity\")\n",
        "\n",
        "  plt.legend(loc=\"lower right\")"
      ],
      "execution_count": null,
      "outputs": []
    },
    {
      "cell_type": "markdown",
      "metadata": {
        "id": "gMA3vx1K-rRo",
        "colab_type": "text"
      },
      "source": [
        "9 Genes | PCA"
      ]
    },
    {
      "cell_type": "code",
      "metadata": {
        "id": "pZJq_Gc1-FHp",
        "colab_type": "code",
        "colab": {
          "base_uri": "https://localhost:8080/",
          "height": 346
        },
        "outputId": "e5bf3a9e-042a-49f6-9e74-e6e9cb254310"
      },
      "source": [
        "diff_df = df[final_pca_col]\n",
        "\n",
        "X_train, X_test, y_train, y_test = train_test_split(diff_df, y, test_size=0.3, random_state=42) \n",
        "printTop3ClassificationResults(X_train, X_test, y_train, y_test)\n",
        "\n",
        "getROC(X_train, X_test, y_train, y_test)"
      ],
      "execution_count": null,
      "outputs": [
        {
          "output_type": "stream",
          "text": [
            "\t\t\t\t\t\t Testing\t Training\n",
            "SVM + Gaussian kernel model accuracy(in %) \t: 93.88 \t 84.8\n",
            "SVM + linear kerne model accuracy(in %) \t: 93.88 \t 85.63\n",
            "Random forest model accuracy(in %) \t\t: 91.84 \t 85.63\n"
          ],
          "name": "stdout"
        },
        {
          "output_type": "display_data",
          "data": {
            "image/png": "[encoded data removed]",
            "text/plain": [
              "<Figure size 432x288 with 1 Axes>"
            ]
          },
          "metadata": {
            "tags": [],
            "needs_background": "light"
          }
        }
      ]
    },
    {
      "cell_type": "code",
      "metadata": {
        "id": "sPBQOias_dzv",
        "colab_type": "code",
        "colab": {
          "base_uri": "https://localhost:8080/",
          "height": 302
        },
        "outputId": "78fad181-5d6a-4dcc-fdb5-92720bae7858"
      },
      "source": [
        "#sensitivity and specificity\n",
        "print_all_model_confusion_matrix(diff_df, y)"
      ],
      "execution_count": null,
      "outputs": [
        {
          "output_type": "stream",
          "text": [
            "Linear Kernel\n",
            "[[71  3]\n",
            " [ 1 86]]\n",
            "Sensitivity: \t 0.986\n",
            "Specificity: \t 0.966\n",
            "\n",
            "Gaussian kernel\n",
            "[[72  2]\n",
            " [ 1 86]]\n",
            "Sensitivity: \t 0.986\n",
            "Specificity: \t 0.977\n",
            "\n",
            "Random forest\n",
            "[[71  3]\n",
            " [ 3 84]]\n",
            "Sensitivity: \t 0.959\n",
            "Specificity: \t 0.966\n"
          ],
          "name": "stdout"
        }
      ]
    },
    {
      "cell_type": "markdown",
      "metadata": {
        "id": "he6ySD5J-40J",
        "colab_type": "text"
      },
      "source": [
        "14 Genes | ALL"
      ]
    },
    {
      "cell_type": "code",
      "metadata": {
        "id": "qujiD30r_CSD",
        "colab_type": "code",
        "colab": {
          "base_uri": "https://localhost:8080/",
          "height": 34
        },
        "outputId": "ce0857dd-8673-4b6f-cbc9-81299ff0654d"
      },
      "source": [
        "len(dis_gene_unique)"
      ],
      "execution_count": null,
      "outputs": [
        {
          "output_type": "execute_result",
          "data": {
            "text/plain": [
              "14"
            ]
          },
          "metadata": {
            "tags": []
          },
          "execution_count": 14
        }
      ]
    },
    {
      "cell_type": "code",
      "metadata": {
        "id": "Zdf9h6_C-4OD",
        "colab_type": "code",
        "colab": {
          "base_uri": "https://localhost:8080/",
          "height": 346
        },
        "outputId": "33de540a-542f-40b7-f35b-b817b0a42cec"
      },
      "source": [
        "diff_df = df[dis_gene_unique]\n",
        "\n",
        "X_train, X_test, y_train, y_test = train_test_split(diff_df, y, test_size=0.3, random_state=42) \n",
        "printTop3ClassificationResults(X_train, X_test, y_train, y_test)\n",
        "\n",
        "getROC(X_train, X_test, y_train, y_test)"
      ],
      "execution_count": null,
      "outputs": [
        {
          "output_type": "stream",
          "text": [
            "\t\t\t\t\t\t Testing\t Training\n",
            "SVM + Gaussian kernel model accuracy(in %) \t: 93.88 \t 89.24\n",
            "SVM + linear kerne model accuracy(in %) \t: 93.88 \t 89.24\n",
            "Random forest model accuracy(in %) \t\t: 91.84 \t 89.24\n"
          ],
          "name": "stdout"
        },
        {
          "output_type": "display_data",
          "data": {
            "image/png": "[encoded data removed]",
            "text/plain": [
              "<Figure size 432x288 with 1 Axes>"
            ]
          },
          "metadata": {
            "tags": [],
            "needs_background": "light"
          }
        }
      ]
    },
    {
      "cell_type": "code",
      "metadata": {
        "id": "PUD9KOx0E363",
        "colab_type": "code",
        "colab": {
          "base_uri": "https://localhost:8080/",
          "height": 302
        },
        "outputId": "065df55d-a51c-4f8e-865d-c4c573f77f15"
      },
      "source": [
        "#sensitivity and specificity\n",
        "print_all_model_confusion_matrix(diff_df, y)"
      ],
      "execution_count": null,
      "outputs": [
        {
          "output_type": "stream",
          "text": [
            "Linear Kernel\n",
            "[[71  3]\n",
            " [ 2 85]]\n",
            "Sensitivity: \t 0.973\n",
            "Specificity: \t 0.966\n",
            "\n",
            "Gaussian kernel\n",
            "[[72  2]\n",
            " [ 1 86]]\n",
            "Sensitivity: \t 0.986\n",
            "Specificity: \t 0.977\n",
            "\n",
            "Random forest\n",
            "[[69  5]\n",
            " [ 3 84]]\n",
            "Sensitivity: \t 0.958\n",
            "Specificity: \t 0.944\n"
          ],
          "name": "stdout"
        }
      ]
    },
    {
      "cell_type": "markdown",
      "metadata": {
        "id": "4FsyjqrX_Ofu",
        "colab_type": "text"
      },
      "source": [
        "17 Genes | ALL"
      ]
    },
    {
      "cell_type": "code",
      "metadata": {
        "id": "Qv6f-tE9_MuY",
        "colab_type": "code",
        "colab": {
          "base_uri": "https://localhost:8080/",
          "height": 346
        },
        "outputId": "e1373420-1488-40a2-ac66-278765f2d134"
      },
      "source": [
        "diff_df = df[dis_gene]\n",
        "\n",
        "X_train, X_test, y_train, y_test = train_test_split(diff_df, y, test_size=0.3, random_state=42) \n",
        "printTop3ClassificationResults(X_train, X_test, y_train, y_test)\n",
        "\n",
        "getROC(X_train, X_test, y_train, y_test)"
      ],
      "execution_count": null,
      "outputs": [
        {
          "output_type": "stream",
          "text": [
            "\t\t\t\t\t\t Testing\t Training\n",
            "SVM + Gaussian kernel model accuracy(in %) \t: 97.96 \t 92.82\n",
            "SVM + linear kerne model accuracy(in %) \t: 93.88 \t 91.04\n",
            "Random forest model accuracy(in %) \t\t: 91.84 \t 91.04\n"
          ],
          "name": "stdout"
        },
        {
          "output_type": "display_data",
          "data": {
            "image/png": "[encoded data removed]",
            "text/plain": [
              "<Figure size 432x288 with 1 Axes>"
            ]
          },
          "metadata": {
            "tags": [],
            "needs_background": "light"
          }
        }
      ]
    },
    {
      "cell_type": "code",
      "metadata": {
        "id": "BoystAzIE__8",
        "colab_type": "code",
        "colab": {
          "base_uri": "https://localhost:8080/",
          "height": 302
        },
        "outputId": "00ad7371-3ba3-40ae-98a7-9f80a689a3c7"
      },
      "source": [
        "#sensitivity and specificity\n",
        "print_all_model_confusion_matrix(diff_df, y)"
      ],
      "execution_count": null,
      "outputs": [
        {
          "output_type": "stream",
          "text": [
            "Linear Kernel\n",
            "[[71  3]\n",
            " [ 1 86]]\n",
            "Sensitivity: \t 0.986\n",
            "Specificity: \t 0.966\n",
            "\n",
            "Gaussian kernel\n",
            "[[72  2]\n",
            " [ 1 86]]\n",
            "Sensitivity: \t 0.986\n",
            "Specificity: \t 0.977\n",
            "\n",
            "Random forest\n",
            "[[71  3]\n",
            " [ 3 84]]\n",
            "Sensitivity: \t 0.959\n",
            "Specificity: \t 0.966\n"
          ],
          "name": "stdout"
        }
      ]
    }
  ]
}